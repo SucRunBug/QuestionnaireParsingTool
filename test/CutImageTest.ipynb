{
 "cells": [
  {
   "cell_type": "code",
   "execution_count": 2,
   "id": "6cda74fa",
   "metadata": {},
   "outputs": [],
   "source": [
    "import cv2"
   ]
  },
  {
   "cell_type": "code",
   "execution_count": 3,
   "id": "4f4011e9",
   "metadata": {},
   "outputs": [],
   "source": [
    "import numpy as np"
   ]
  },
  {
   "cell_type": "code",
   "execution_count": 4,
   "id": "8e89682b",
   "metadata": {},
   "outputs": [],
   "source": [
    "import tensorflow as tf"
   ]
  },
  {
   "cell_type": "code",
   "execution_count": 5,
   "id": "226c83f1",
   "metadata": {},
   "outputs": [],
   "source": [
    "from tensorflow.keras.models import load_model"
   ]
  },
  {
   "cell_type": "code",
   "execution_count": 6,
   "id": "eaef0bd3",
   "metadata": {},
   "outputs": [],
   "source": [
    "image = cv2.imread('test2.jpeg')"
   ]
  },
  {
   "cell_type": "code",
   "execution_count": 7,
   "id": "ab340248",
   "metadata": {},
   "outputs": [],
   "source": [
    "gray = cv2.cvtColor(image, cv2.COLOR_BGR2GRAY)"
   ]
  },
  {
   "cell_type": "code",
   "execution_count": 8,
   "id": "5c46bd0e",
   "metadata": {},
   "outputs": [],
   "source": [
    "x, y, width, height = 100, 100, 200, 200"
   ]
  },
  {
   "cell_type": "code",
   "execution_count": 9,
   "id": "2111a8e4",
   "metadata": {},
   "outputs": [],
   "source": [
    "roi = gray[y:y+height, x:x+width]"
   ]
  },
  {
   "cell_type": "code",
   "execution_count": 10,
   "id": "9329cde7",
   "metadata": {},
   "outputs": [],
   "source": [
    "roi = cv2.resize(roi, (28, 28))\n",
    "roi = np.expand_dims(roi, axis=-1)\n",
    "roi = np.expand_dims(roi, axis=0)"
   ]
  },
  {
   "cell_type": "code",
   "execution_count": 11,
   "id": "f17fdbd4",
   "metadata": {},
   "outputs": [],
   "source": [
    "model = load_model('handwriting_model.h5')  # 替换为您的模型文件路径"
   ]
  },
  {
   "cell_type": "code",
   "execution_count": 12,
   "id": "f4bb3501",
   "metadata": {},
   "outputs": [
    {
     "name": "stdout",
     "output_type": "stream",
     "text": [
      "1/1 [==============================] - 0s 51ms/step\n"
     ]
    }
   ],
   "source": [
    "prediction = model.predict(roi)\n",
    "predicted_class = np.argmax(prediction)"
   ]
  },
  {
   "cell_type": "code",
   "execution_count": null,
   "id": "cc634365",
   "metadata": {},
   "outputs": [],
   "source": [
    "cv2.putText(image, str(predicted_class), (x, y), cv2.FONT_HERSHEY_SIMPLEX, 1, (0, 255, 0), 2)\n",
    "cv2.rectangle(image, (x, y), (x+width, y+height), (0, 255, 0), 2)\n",
    "cv2.imshow('Result', image)\n",
    "cv2.waitKey(0)\n",
    "cv2.destroyAllWindows()\n"
   ]
  },
  {
   "cell_type": "code",
   "execution_count": null,
   "id": "6a1b5ed6",
   "metadata": {},
   "outputs": [],
   "source": []
  }
 ],
 "metadata": {
  "kernelspec": {
   "display_name": "Python 3 (ipykernel)",
   "language": "python",
   "name": "python3"
  },
  "language_info": {
   "codemirror_mode": {
    "name": "ipython",
    "version": 3
   },
   "file_extension": ".py",
   "mimetype": "text/x-python",
   "name": "python",
   "nbconvert_exporter": "python",
   "pygments_lexer": "ipython3",
   "version": "3.10.10"
  }
 },
 "nbformat": 4,
 "nbformat_minor": 5
}
